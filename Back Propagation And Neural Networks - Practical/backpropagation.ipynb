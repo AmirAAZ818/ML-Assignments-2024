{
  "cells": [
    {
      "cell_type": "markdown",
      "metadata": {
        "id": "Ecaqr9YkWpbL"
      },
      "source": [
        "# Neural Networks from Scratch\n",
        "\n",
        "\n",
        "\n",
        "\n"
      ]
    },
    {
      "cell_type": "markdown",
      "metadata": {},
      "source": [
        "## Setup and Imports"
      ]
    },
    {
      "cell_type": "code",
      "execution_count": null,
      "metadata": {
        "id": "PqFOwWLZVPI0"
      },
      "outputs": [],
      "source": [
        "import numpy as np\n",
        "\n",
        "from sklearn.datasets import fetch_openml\n",
        "from sklearn.model_selection import train_test_split\n",
        "from sklearn.metrics import confusion_matrix, ConfusionMatrixDisplay\n",
        "\n",
        "from matplotlib import pyplot as plt\n",
        "import seaborn as sns\n",
        "\n",
        "from tqdm import trange\n",
        "\n",
        "import ipywidgets as widgets\n",
        "from IPython.display import display"
      ]
    },
    {
      "cell_type": "code",
      "execution_count": 2,
      "metadata": {},
      "outputs": [],
      "source": [
        "np.random.seed(42)"
      ]
    },
    {
      "cell_type": "markdown",
      "metadata": {},
      "source": [
        "## Helper Functions"
      ]
    },
    {
      "cell_type": "code",
      "execution_count": null,
      "metadata": {
        "id": "9AKM0RgiVSOQ"
      },
      "outputs": [],
      "source": [
        "def plot_training(losses):\n",
        "    # Plot the loss\n",
        "    plt.plot(losses)\n",
        "    plt.title(\"Training loss\")\n",
        "    plt.xlabel(\"Epoch\")\n",
        "    plt.ylabel(\"Loss\")\n",
        "    plt.show()\n",
        "\n",
        "\n",
        "def plot_confusion_matrix(y_true, y_pred, class_names, kept_classes):\n",
        "    dim = len(kept_classes)\n",
        "    labels = [class_names[i] for i in kept_classes]\n",
        "    # Plot the confusion matrix\n",
        "    conf_mat = confusion_matrix(y_true, y_pred)\n",
        "    norm_conf_mat = conf_mat / np.sum(conf_mat, axis=1)\n",
        "    # plot the matrix\n",
        "    fig, ax = plt.subplots()\n",
        "    plt.imshow(norm_conf_mat)\n",
        "    plt.title('Confusion Matrix')\n",
        "    plt.xlabel('Predictions')\n",
        "    plt.ylabel('Labels')\n",
        "    plt.xticks(range(dim), labels, rotation=45)\n",
        "    plt.yticks(range(dim), labels)\n",
        "    plt.colorbar()\n",
        "    # Put number of each cell in plot\n",
        "    for i in range(dim):\n",
        "        for j in range(dim):\n",
        "            c = conf_mat[j, i]\n",
        "            color = 'black' if c > 500 else 'white'\n",
        "            ax.text(i, j, str(int(c)), va='center', ha='center', color=color)\n",
        "    plt.show()\n",
        "\n",
        "\n",
        "def get_data(filter_classes):\n",
        "    fashion_mnist = fetch_openml(\"Fashion-MNIST\", parser='auto')\n",
        "    x, y = fashion_mnist['data'], fashion_mnist['target'].astype(int)\n",
        "    # Remove classes\n",
        "    filtered_indices = np.isin(y, filter_classes)\n",
        "    x, y = x[filtered_indices].to_numpy(), y[filtered_indices]\n",
        "    # Normalize the pixels to be in [-1, +1] range\n",
        "    x = ((x / 255.) - .5) * 2\n",
        "    removed_class_count = 0\n",
        "    for i in range(10):  # Fix the labels\n",
        "        if i in filter_classes and removed_class_count != 0:\n",
        "            y[y == i] = i - removed_class_count\n",
        "        elif i not in filter_classes:\n",
        "            removed_class_count += 1\n",
        "    # Do the train-test split\n",
        "    return train_test_split(x, y, test_size=10_000)\n",
        "\n",
        "\n",
        "def onehot_encoder(y, num_labels):\n",
        "    one_hot = np.zeros(shape=(y.size, num_labels), dtype=int)\n",
        "    one_hot[np.arange(y.size), y] = 1\n",
        "    return one_hot\n",
        "\n",
        "\n",
        "def plot_batch_size(vanila, stochastic, mini_batch):\n",
        "    fig, axes = plt.subplots(2, 2)\n",
        "    # Plot the loss\n",
        "    axes[0, 0].plot(vanila[0], label='Gradient Descent')\n",
        "    axes[0, 0].plot(stochastic[0], label='Stochastic Gradient Descent')\n",
        "    axes[0, 0].plot(mini_batch[0], label='Mini-Batch Gradient Descent')\n",
        "    axes[0, 0].set_xlabel('Epoch'), axes[0, 0].set_ylabel('Loss')\n",
        "    axes[0, 0].set_title('Training Loss'), axes[0, 0].legend()\n",
        "    # Plot the accuracy\n",
        "    axes[0, 1].plot(vanila[2], label='Gradient Descent')\n",
        "    axes[0, 1].plot(stochastic[2], label='Stochastic Gradient Descent')\n",
        "    axes[0, 1].plot(mini_batch[2], label='Mini-Batch Gradient Descent')\n",
        "    axes[0, 1].set_xlabel('Epoch'), axes[0, 1].set_ylabel('Accuracy')\n",
        "    axes[0, 1].set_title('Test Accuracy'), axes[0, 1].legend()\n",
        "    # Plot SGD batch loss\n",
        "    axes[1, 0].plot(stochastic[1], label='Stochastic Gradient Descent')\n",
        "    axes[1, 0].set_xlabel('Batch'), axes[1, 0].set_ylabel('Loss')\n",
        "    axes[1, 0].set_title('Stochastic Gradient Descent')\n",
        "    # Plot MBGD batch loss\n",
        "    axes[1, 1].plot(mini_batch[1], label='Mini-Batch Gradient Descent')\n",
        "    axes[1, 1].set_xlabel('Batch'), axes[1, 1].set_ylabel('Loss')\n",
        "    axes[1, 1].set_title('Mini-Batch Gradient Descent')\n",
        "\n",
        "    fig.set_size_inches(16, 12)\n",
        "    plt.show()"
      ]
    },
    {
      "cell_type": "markdown",
      "metadata": {
        "id": "GvFUeXMNadnZ"
      },
      "source": [
        "# Layers"
      ]
    },
    {
      "cell_type": "markdown",
      "metadata": {
        "id": "KThKuK5DJHAH"
      },
      "source": [
        "## Abstract Layer Class\n",
        "\n",
        "The `Layer` class serves as an abstract base class for all layers in the network. It includes placeholder methods:\n",
        "- `forward`: The forward pass computes the output of the layer given an input.\n",
        "- `backward`: The backward pass computes the gradients with respect to the input and parameters.\n",
        "- `step`: Updates the layer parameters (weights and biases)."
      ]
    },
    {
      "cell_type": "code",
      "execution_count": 4,
      "metadata": {
        "id": "5HmznEXldEaI"
      },
      "outputs": [],
      "source": [
        "class Layer:\n",
        "    def __init__(self):\n",
        "        self.inp = None\n",
        "        self.out = None\n",
        "\n",
        "    def __call__(self, inp: np.ndarray) -> np.ndarray:\n",
        "        return self.forward(inp)\n",
        "\n",
        "    def forward(self, inp: np.ndarray) -> np.ndarray:\n",
        "        raise NotImplementedError\n",
        "\n",
        "    def backward(self, up_grad: np.ndarray) -> np.ndarray:\n",
        "        raise NotImplementedError\n",
        "\n",
        "    def step(self, lr: float) -> None:\n",
        "        pass"
      ]
    },
    {
      "cell_type": "markdown",
      "metadata": {
        "id": "eB1SjTeaJztY"
      },
      "source": [
        "## Linear Layers\n",
        "\n",
        "The `Linear` class implements the fully connected (or dense) layer of a neural network, which performs a linear transformation on the input:\n",
        "\n",
        "$$\\mathbf{y} = \\mathbf{x} \\cdot \\mathbf{W} + \\mathbf{b}$$"
      ]
    },
    {
      "cell_type": "markdown",
      "metadata": {
        "id": "phTfqRsVIZKA"
      },
      "source": [
        "**Initialization**\n",
        "- `self.w`: Represents the weight matrix of shape `(in_dim, out_dim)`, initialized using small random values.\n",
        "- `self.b`: Bias vector of shape `(1, out_dim)`, initialized to zeros.\n",
        "- `self.dw` and `self.db`: These store the computed gradients of weights and biases during backpropagation.\n",
        "\n",
        "\n",
        "\n",
        "\n",
        "**Forward Pass**\n",
        "- The forward pass computes:\n",
        "$$\\mathbf{out} = \\mathbf{inp} \\cdot \\mathbf{W} + \\mathbf{b}$$\n",
        "where:\n",
        "  - `inp`: Input matrix of shape `(batch_size, in_dim)`\n",
        "  - `self.w`: Weight matrix of shape `(in_dim, out_dim)`\n",
        "  -\t`self.b`: Bias matrix of shape `(1, out_dim)`\n",
        "-\tThe result is a matrix out of shape `(batch_size, out_dim)`.\n",
        "\n",
        "\n",
        "\n",
        "\n",
        "**Backward Pass**\n",
        "- The backward pass computes gradients needed for updating the weights and biases. Given the upstream gradient `up_grad` (from the loss with respect to the output of this layer), we calculate:\n",
        "  - Gradient w.r.t. weights (`self.dw`):\n",
        "    $$ \\frac{\\partial L}{\\partial W} = \\mathbf{inp}^T \\cdot \\text{up grad} $$\n",
        "  - Gradient w.r.t. biases (`self.db`):\n",
        "    $$\\frac{\\partial L}{\\partial b} = \\sum \\text{up grad} \\text{ (summed across batch)}$$\n",
        "  - Gradient to propagate to the previous layer (`down_grad`):\n",
        "    $$\\text{down grad} = \\text{up grad} \\cdot W^T$$\n",
        "- This allows the gradient to flow backward to earlier layers.\n",
        "\n",
        "\n",
        "\n",
        "\n",
        "**Step Method**\n",
        "- Updates the weights and biases using the computed gradients and learning rate (`lr`):\n",
        "    $$W = W - lr \\cdot \\frac{\\partial L}{\\partial W}$$\n",
        "    $$b = b - lr \\cdot \\frac{\\partial L}{\\partial b}$$\n"
      ]
    },
    {
      "cell_type": "code",
      "execution_count": 5,
      "metadata": {
        "id": "pF0DKJV_JRnh"
      },
      "outputs": [],
      "source": [
        "class Linear(Layer):  # Note: Extend from Layer if you're using a parent class\n",
        "    def __init__(self, in_dim: int, out_dim: int):\n",
        "        \"\"\"\n",
        "        Initialize the Linear layer.\n",
        "        Args:\n",
        "            in_dim (int): Number of input features.\n",
        "            out_dim (int): Number of output features.\n",
        "        \"\"\"\n",
        "\n",
        "        # Initialize weights using He initialization\n",
        "        # self.w = np.random.rand(in_dim, out_dim) # The reason for low accuracy\n",
        "        self.w = np.random.randn(in_dim, out_dim) * np.sqrt(2.0 / in_dim)  # TODO: Initialize weights with shape (in_dim, out_dim)\n",
        "        self.b = np.zeros((1, out_dim))  # TODO: Initialize biases with shape (1, out_dim)\n",
        "\n",
        "        # Initialize gradients (used during backpropagation)\n",
        "        self.dw = np.zeros(self.w.shape)  # TODO: Initialize with zeros_like(self.w)\n",
        "        self.db = np.zeros(self.b.shape)  # TODO: Initialize with zeros_like(self.b)\n",
        "\n",
        "    def forward(self, inp: np.ndarray) -> np.ndarray:\n",
        "        \"\"\"\n",
        "        Perform the forward pass.\n",
        "        Args:\n",
        "            inp (np.ndarray): Input tensor, shape (batch_size, in_dim).\n",
        "        Returns:\n",
        "            np.ndarray: Output tensor, shape (batch_size, out_dim).\n",
        "        \"\"\"\n",
        "        # Store the input for use in backpropagation\n",
        "        self.inp = inp\n",
        "\n",
        "        # Compute the output: output = inp * W + b\n",
        "        self.out = self.inp @ self.w + self.b  # TODO: Compute the dot product and add the bias\n",
        "        return self.out\n",
        "\n",
        "    def backward(self, up_grad: np.ndarray) -> np.ndarray:\n",
        "        \"\"\"\n",
        "        Perform the backward pass.\n",
        "        Args:\n",
        "            up_grad (np.ndarray): Gradient of the loss wrt output, shape (batch_size, out_dim).\n",
        "        Returns:\n",
        "            np.ndarray: Gradient of the loss wrt input, shape (batch_size, in_dim).\n",
        "        \"\"\"\n",
        "        # Compute gradients for weights and biases\n",
        "        self.dw = self.inp.T @ up_grad  # TODO: Compute gradient wrt weights\n",
        "        self.db = np.sum(up_grad, axis=0, keepdims=True)  # TODO: Compute gradient wrt biases\n",
        "\n",
        "        # Compute gradient to propagate back\n",
        "        down_grad = up_grad @ self.w.T  # TODO: Compute gradient wrt input\n",
        "        return down_grad\n",
        "\n",
        "    def step(self, lr: float) -> None:\n",
        "        \"\"\"\n",
        "        Update the weights and biases using the gradients.\n",
        "        Args:\n",
        "            lr (float): Learning rate.\n",
        "        \"\"\"\n",
        "        # TODO: Update weights and biases using gradients and learning rate\n",
        "        self.w = self.w - lr * self.dw\n",
        "        self.b = self.b - lr * self.db"
      ]
    },
    {
      "cell_type": "markdown",
      "metadata": {
        "id": "yr6hBcY4N00B"
      },
      "source": [
        "## Activation Functions\n",
        "\n",
        "We can implement activation functions as layers. This will simplify the training process"
      ]
    },
    {
      "cell_type": "markdown",
      "metadata": {
        "id": "zsuMui_fLCWf"
      },
      "source": [
        "### Sigmoid\n",
        "\n",
        "- The Sigmoid function is defined as follows:\n",
        "\n",
        "$$f(x) = \\frac{1}{1 + e^{-x}}$$\n",
        "\n",
        "- Sigmoid squashes the input into the range [0, 1], making it useful for binary classification tasks.\n",
        "- It converts any real-valued number into a probability-like output.\n",
        "- However, in deeper networks, it may cause vanishing gradients due to its flat slope for extreme values.\n",
        "- The derivative of Sigmoid is convenient to compute using its output  $f(x)$:\n",
        "$$f'(x) = \\frac{-e^{-x}}{(1 + e^{-x})^2} = \\frac{1}{1 + e^{-x}} \\cdot \\frac{e^{-x}}{1 + e^{-x}} = f(x) \\cdot (1-f(x))$$"
      ]
    },
    {
      "cell_type": "code",
      "execution_count": 6,
      "metadata": {
        "id": "cxGzqMybEGt-"
      },
      "outputs": [],
      "source": [
        "class Sigmoid(Layer):  # Note: Extend from Layer if you're using a parent class\n",
        "    def __init__(self):\n",
        "        super().__init__()\n",
        "        \n",
        "    def forward(self, inp: np.ndarray) -> np.ndarray:\n",
        "        \"\"\"\n",
        "        Sigmoid Activation: f(x) = 1 / (1 + exp(-x))\n",
        "        Args:\n",
        "            inp (np.ndarray): Input tensor, shape (batch_size, num_features).\n",
        "        Returns:\n",
        "            np.ndarray: Output tensor after applying the Sigmoid function.\n",
        "        \"\"\"\n",
        "        # TODO: Compute the Sigmoid activation and store it in self.out\n",
        "        self.out = 1/(1 + np.exp(-inp))  # Replace None with the Sigmoid formula\n",
        "        return self.out\n",
        "\n",
        "    def backward(self, up_grad: np.ndarray) -> np.ndarray:\n",
        "        \"\"\"\n",
        "        Backward pass for Sigmoid.\n",
        "        f'(x) = f(x) * (1 - f(x))\n",
        "        Args:\n",
        "            up_grad (np.ndarray): Gradient of the loss wrt output, shape (batch_size, num_features).\n",
        "        Returns:\n",
        "            np.ndarray: Gradient of the loss wrt input, shape (batch_size, num_features).\n",
        "        \"\"\"\n",
        "        # TODO: Compute the downstream gradient using self.out\n",
        "        down_grad = up_grad * (self.out * (1 - self.out))  # Replace None with the gradient formula\n",
        "        return down_grad"
      ]
    },
    {
      "cell_type": "markdown",
      "metadata": {
        "id": "08aibrACJ_kr"
      },
      "source": [
        "### ReLU (Rectified Linear Unit)\n",
        "\n",
        "- The ReLU function outputs 0 if the input is less than zero, otherwise it will return the input itself:\n",
        "$$f(x) = \\max(0,x) $$\n",
        "\n",
        "- ReLU helps introduce non-linearity into the model, which is essential for learning complex patterns.\n",
        "- It also helps avoid the vanishing gradient problem common in deep networks with the Sigmoid activation.\n",
        "- During backpropagation, only the gradients for inputs greater than 0 pass through:\n",
        "\n",
        "$$ f'(x) = \\begin{cases} 1 & \\text{if } x > 0 \\\\ 0 & \\text{otherwise} \\end{cases}$$\n"
      ]
    },
    {
      "cell_type": "code",
      "execution_count": 7,
      "metadata": {
        "id": "dHaTiE10HART"
      },
      "outputs": [],
      "source": [
        "class ReLU(Layer):  # Note: Extend from Layer if you're using a parent class\n",
        "    def __init__(self):\n",
        "        super().__init__()\n",
        "    \n",
        "    def forward(self, inp: np.ndarray) -> np.ndarray:\n",
        "        \"\"\"\n",
        "        ReLU Activation: f(x) = max(0, x)\n",
        "        Args:\n",
        "            inp (np.ndarray): Input tensor, shape (batch_size, num_features).\n",
        "        Returns:\n",
        "            np.ndarray: Output tensor after applying ReLU activation.\n",
        "        \"\"\"\n",
        "        # TODO: Store the input for use in backward pass\n",
        "        self.inp = inp  # Replace None with the input\n",
        "        # TODO: Compute the ReLU output\n",
        "        self.out = np.maximum(0, inp)  # Replace None with np.maximum(0, inp)\n",
        "        return self.out\n",
        "\n",
        "    def backward(self, up_grad: np.ndarray) -> np.ndarray:\n",
        "        \"\"\"\n",
        "        Backward pass for ReLU.\n",
        "        Derivative is 1 where input > 0, else 0.\n",
        "        Args:\n",
        "            up_grad (np.ndarray): Gradient of the loss wrt output, shape (batch_size, num_features).\n",
        "        Returns:\n",
        "            np.ndarray: Gradient of the loss wrt input, shape (batch_size, num_features).\n",
        "        \"\"\"\n",
        "        # TODO: Compute the gradient of ReLU\n",
        "        down_grad = up_grad * (self.inp > 0)  # Replace None with up_grad * (self.inp > 0)\n",
        "        return down_grad"
      ]
    },
    {
      "cell_type": "markdown",
      "metadata": {
        "id": "_3ekD5bNl1xD"
      },
      "source": [
        "Softmax\n",
        "\n",
        "- The Softmax function is defined as follows:\n",
        "$$f(x_i) = \\frac{e^{x_i}}{\\sum_j e^{x_j}}$$\n",
        "\n",
        "- Softmax normalizes the input values into probabilities that sum to 1.\n",
        "- It's typically used in the final layer of a neural network for multi-class classification.\n",
        "- It converts raw scores into probabilities, where each class has a non-negative probability between 0 and 1.\n",
        "- Subtracting the maximum input value (`np.max(inp)`) from all inputs before applying `np.exp` helps prevent overflow errors."
      ]
    },
    {
      "cell_type": "code",
      "execution_count": 8,
      "metadata": {
        "id": "qVX1r6w-l2yr"
      },
      "outputs": [],
      "source": [
        "class Softmax(Layer):\n",
        "    def __init__(self):\n",
        "        super().__init__()\n",
        "    \n",
        "    def forward(self, inp: np.ndarray) -> np.ndarray:\n",
        "        \"\"\"Softmax Activation: f(x) = exp(x) / sum(exp(x))\"\"\"\n",
        "        # TODO: Subtract max for numerical stability\n",
        "        # Hint: Subtracting the max value of the input from each element improves numerical stability.\n",
        "        # inp shape: (num_batches, num_classes)\n",
        "        exp_values = np.exp(inp - np.max(inp, axis=1, keepdims=True))\n",
        "\n",
        "        # TODO: Compute the softmax output\n",
        "        # Hint: The softmax output is calculated by dividing the exponentiated values by their sum along the axis.\n",
        "        self.out = exp_values / np.sum(exp_values, axis=1, keepdims=True)\n",
        "        return self.out\n",
        "\n",
        "    def backward(self, up_grad: np.ndarray) -> np.ndarray:\n",
        "        \"\"\"Backward pass for Softmax using the Jacobian matrix.\"\"\"\n",
        "        # TODO: Initialize the gradient matrix for the softmax output\n",
        "        down_grad = np.empty_like(up_grad)\n",
        "\n",
        "        for i in range(up_grad.shape[0]):\n",
        "            # TODO: Get the softmax output for a single example\n",
        "            # Hint: Reshape the output to be a column vector.\n",
        "            single_output = self.out[i].reshape(-1, 1)\n",
        "\n",
        "            # TODO: Compute the Jacobian matrix for softmax\n",
        "            # Hint: The Jacobian matrix is a square matrix where each element is derived from the softmax formula.\n",
        "            jacobian = np.diagflat(single_output) - np.dot(single_output, single_output.T)\n",
        "\n",
        "            # TODO: Apply the Jacobian to the upstream gradient\n",
        "            down_grad[i] = np.dot(jacobian, up_grad[i])\n",
        "\n",
        "        return down_grad\n"
      ]
    },
    {
      "cell_type": "markdown",
      "metadata": {
        "id": "sl2nW4KnSgYs"
      },
      "source": [
        "# Loss Functions"
      ]
    },
    {
      "cell_type": "markdown",
      "metadata": {
        "id": "oyEmTPR-TLDk"
      },
      "source": [
        "## Abstract Loss Class\n",
        "\n",
        "The `Loss` class serves as an abstract base class for all layers in the network. It includes placeholder methods:\n",
        "- `forward`: To compute the loss given predictions and targets.\n",
        "- `backward`: To compute the loss given predictions and targets."
      ]
    },
    {
      "cell_type": "code",
      "execution_count": 9,
      "metadata": {
        "id": "qMb2DsJNSp3f"
      },
      "outputs": [],
      "source": [
        "class Loss:\n",
        "    def __init__(self):\n",
        "        self.prediction = None\n",
        "        self.target = None\n",
        "        self.loss = None\n",
        "\n",
        "    def __call__(self, prediction: np.ndarray, target: np.ndarray) -> float:\n",
        "        return self.forward(prediction, target)\n",
        "\n",
        "    def forward(self, prediction: np.ndarray, target: np.ndarray) -> float:\n",
        "        raise NotImplementedError\n",
        "\n",
        "    def backward(self) -> np.ndarray:\n",
        "        raise NotImplementedError"
      ]
    },
    {
      "cell_type": "markdown",
      "metadata": {
        "id": "__nX-zlJTo3B"
      },
      "source": [
        "## Cross-Entropy Loss\n",
        "\n",
        "Cross-entropy loss is typically used in classification tasks since it measures the dissimilarity between the true distribution (target) and the predicted probability distribution (prediction):\n",
        "\n",
        "$$L = - \\frac{1}{N} \\sum_{i} \\sum_{c} y_{ic} \\log(p_{ic})$$\n",
        "\n",
        "where $y_{ic}$ is the one-hot encoded true label (target), $p_{ic}$ is the predicted probability (output from Softmax) and $N$ is the batch size.\n"
      ]
    },
    {
      "cell_type": "code",
      "execution_count": 10,
      "metadata": {
        "id": "lyF-rhVvSy1q"
      },
      "outputs": [],
      "source": [
        "class CrossEntropy(Loss):  # Note: Extend from Loss if you're using a parent class\n",
        "    def __init__(self):\n",
        "        super().__init__()\n",
        "    \n",
        "    def forward(self, prediction: np.ndarray, target: np.ndarray) -> float:\n",
        "        \"\"\"\n",
        "        Cross-Entropy Loss for classification.\n",
        "        Args:\n",
        "            prediction (np.ndarray): Predicted probabilities, shape (batch_size, num_classes).\n",
        "            target (np.ndarray): One-hot encoded true labels, shape (batch_size, num_classes).\n",
        "        Returns:\n",
        "            float: Scalar loss value.\n",
        "        \"\"\"\n",
        "        # Store prediction and target for backward pass\n",
        "        self.prediction = prediction\n",
        "        self.target = target\n",
        "\n",
        "        # TODO: Clip predictions to avoid log(0)\n",
        "        clipped_pred = np.clip(self.prediction, 1e-12, 1.0)  # Replace None with np.clip(prediction, 1e-12, 1.0)\n",
        "\n",
        "        # TODO: Compute the cross-entropy loss\n",
        "        self.loss = -np.sum(self.target * np.log(clipped_pred)) / prediction.shape[0]  # Replace None with the cross-entropy loss formula\n",
        "        return self.loss\n",
        "\n",
        "    def backward(self) -> np.ndarray:\n",
        "        \"\"\"\n",
        "        Gradient of Cross-Entropy Loss.\n",
        "        Returns:\n",
        "            np.ndarray: Gradient of the loss wrt predictions, shape (batch_size, num_classes).\n",
        "        \"\"\"\n",
        "        # TODO: Compute the gradient of the loss wrt predictions\n",
        "        grad = (self.prediction - self.target) / self.prediction.shape[0]  # Replace None with the gradient formula\n",
        "        return grad"
      ]
    },
    {
      "cell_type": "markdown",
      "metadata": {
        "id": "-i8pHfR9TrYa"
      },
      "source": [
        "## Mean Squared Error (MSE) Loss\n",
        "\n",
        "MSE is used primarily for regression tasks, where you need to measure the distance between the predicted continuous values and the true values:\n",
        "\n",
        "$$L = \\frac{1}{N} \\sum_{i} (p_i - y_i)^2$$\n",
        "\n",
        "where $p_i$ is the predicted value, $y_i$ is the true value (target) and $N$ is the batch size.\n",
        "\n",
        "The gradient measures the difference between the prediction and the target, scaled by the batch size:\n",
        "\n",
        "$$\\frac{\\partial L}{\\partial p_i} = \\frac{2}{N} (p_i - y_i)$$\n"
      ]
    },
    {
      "cell_type": "code",
      "execution_count": 11,
      "metadata": {
        "id": "0ZmkwcRCSzRd"
      },
      "outputs": [],
      "source": [
        "class MSE(Loss):  # Note: Extend from Loss if you're using a parent class\n",
        "    def __init__(self):\n",
        "        super().__init__()\n",
        "    \n",
        "    def forward(self, prediction: np.ndarray, target: np.ndarray) -> float:\n",
        "        \"\"\"\n",
        "        Mean Squared Error (MSE) Loss for regression.\n",
        "        Args:\n",
        "            prediction (np.ndarray): Predicted values, shape (batch_size, num_features).\n",
        "            target (np.ndarray): True values, shape (batch_size, num_features).\n",
        "        Returns:\n",
        "            float: Scalar loss value.\n",
        "        \"\"\"\n",
        "        # Store prediction and target for backward pass\n",
        "        self.prediction = prediction\n",
        "        self.target = target\n",
        "\n",
        "        # TODO: Compute the Mean Squared Error (MSE) loss\n",
        "        self.loss = np.mean(np.power((self.prediction - self.target), 2))  # Replace None with np.mean((prediction - target) ** 2)\n",
        "        return self.loss\n",
        "\n",
        "    def backward(self) -> np.ndarray:\n",
        "        \"\"\"\n",
        "        Gradient of MSE Loss.\n",
        "        Returns:\n",
        "            np.ndarray: Gradient of the loss wrt predictions, shape (batch_size, num_features).\n",
        "        \"\"\"\n",
        "        # TODO: Compute the gradient of the MSE loss\n",
        "        grad = 2 * (self.prediction - self.target) / len(self.target)  # Replace None with the gradient formula: 2 * (self.prediction - self.target) / self.target.size\n",
        "        return grad"
      ]
    },
    {
      "cell_type": "markdown",
      "metadata": {
        "id": "p1KKCeDWUNJc"
      },
      "source": [
        "# Neural Network"
      ]
    },
    {
      "cell_type": "markdown",
      "metadata": {
        "id": "MJno_CD7hK1u"
      },
      "source": [
        "Now we can combine everything we've done earlier to build a neural network class called `MLP` with the following methods:\n",
        "\n",
        "- `forward`: Sequentially passes input through each layer in the network to compute the output.\n",
        "- `loss`: Computes the loss between the predicted output and the true target using the specified loss function.\n",
        "- `backward`: Propagates the gradient from the loss function through each layer, updating the gradients of the parameters in each layer.\n",
        "- `update`: Updates each layer's parameters (e.g., weights and biases) using the gradients computed during backpropagation.\n",
        "- `train`: Executes the training loop for a specified number of epochs, iterating over the dataset in mini-batches, performing the forward pass, computing the loss, backpropagating the gradients, and updating the parameters.\n"
      ]
    },
    {
      "cell_type": "code",
      "execution_count": 12,
      "metadata": {
        "id": "nd1HjMLMUOAs"
      },
      "outputs": [],
      "source": [
        "class MLP:\n",
        "    def __init__(self, layers: list[Layer], loss_fn: Loss, lr: float) -> None:\n",
        "        \"\"\"\n",
        "        Multi-Layer Perceptron (MLP) class.\n",
        "        Arguments:\n",
        "        - layers: List of layers (e.g., Linear, ReLU, etc.).\n",
        "        - loss_fn: Loss function object (e.g., CrossEntropy, MSE).\n",
        "        - lr: Learning rate.\n",
        "        \"\"\"\n",
        "        self.layers = layers\n",
        "        self.loss_fn = loss_fn\n",
        "        self.lr = lr\n",
        "\n",
        "    def __call__(self, inp: np.ndarray) -> np.ndarray:\n",
        "        \"\"\"Makes the model callable, equivalent to forward pass.\"\"\"\n",
        "        return self.forward(inp)\n",
        "\n",
        "    def forward(self, inp: np.ndarray) -> np.ndarray:\n",
        "        \"\"\"Pass input through each layer sequentially.\"\"\"\n",
        "        for layer in self.layers:\n",
        "            inp = layer.forward(inp)\n",
        "        return inp\n",
        "\n",
        "    def loss(self, prediction: np.ndarray, target: np.ndarray) -> float:\n",
        "        \"\"\"Calculate the loss.\"\"\"\n",
        "        return self.loss_fn(prediction, target)\n",
        "\n",
        "    def backward(self) -> None:\n",
        "        \"\"\"Perform backpropagation by propagating the gradient backwards through the layers.\"\"\"\n",
        "        up_grad = self.loss_fn.backward()\n",
        "        for layer in reversed(self.layers):\n",
        "            up_grad = layer.backward(up_grad)\n",
        "\n",
        "    def update(self) -> None:\n",
        "        \"\"\"Update the parameters of each layer using the gradients and the learning rate.\"\"\"\n",
        "        for layer in self.layers:\n",
        "            layer.step(self.lr)\n",
        "\n",
        "    def train(self, x_train: np.ndarray, y_train: np.ndarray, epochs: int, batch_size: int) -> np.ndarray:\n",
        "        \"\"\"Train the MLP over the given dataset for a number of epochs.\"\"\"\n",
        "        losses = np.empty(epochs)\n",
        "        for epoch in (pbar := trange(epochs)):\n",
        "            running_loss = 0.0\n",
        "            for i in range(0, len(x_train), batch_size):\n",
        "                x_batch = x_train[i:i + batch_size]\n",
        "                y_batch = y_train[i:i + batch_size]\n",
        "\n",
        "                # Forward pass\n",
        "                prediction = self(x_batch)\n",
        "\n",
        "                # print(prediction.shape)\n",
        "                # print(y_batch.shape)\n",
        "                \n",
        "                # Compute loss\n",
        "                running_loss += self.loss(prediction, y_batch) * batch_size\n",
        "                \n",
        "\n",
        "                # Backward pass\n",
        "                self.backward()\n",
        "\n",
        "                # Update parameters\n",
        "                self.update()\n",
        "\n",
        "            # Normalize running loss by total number of samples\n",
        "            running_loss /= len(x_train)\n",
        "            pbar.set_description(f\"Train Loss: {running_loss:.3f}\")\n",
        "            losses[epoch] = running_loss\n",
        "           \n",
        "        return losses"
      ]
    },
    {
      "cell_type": "markdown",
      "metadata": {
        "id": "AzONLtl5kc8W"
      },
      "source": [
        "# Training"
      ]
    },
    {
      "cell_type": "markdown",
      "metadata": {
        "id": "r93pdZdrZ77B"
      },
      "source": [
        "## Loading the Fashion-MNIST Dataset"
      ]
    },
    {
      "cell_type": "markdown",
      "metadata": {
        "id": "bOCW3Kh9azY6"
      },
      "source": [
        "For simplicity you can use `get_data` to load the Fashion-MNIST dataset. Since we aren't using GPUs, in order to save time and get better results, we are only going to include 3 classes in our training. However you can easily modify this cell to include different classes."
      ]
    },
    {
      "cell_type": "code",
      "execution_count": 13,
      "metadata": {
        "id": "xmRyKM-oZ-hh"
      },
      "outputs": [],
      "source": [
        "# Define the class names for the Fashion-MNIST dataset\n",
        "class_names = {0: 'T-shirt/top', 1: 'Trouser', 2: 'Pullover',\n",
        "               3: 'Dress', 4: 'Coat', 5: 'Sandal', 6: 'Shirt',\n",
        "               7: 'Sneaker', 8: 'Bag', 9: 'Ankle boot'}\n",
        "\n",
        "# TODO: Include all the classes you want to see in training\n",
        "# Example: kept_classes = [0, 1, 7]  # T-shirt/top, Trouser, Sneaker\n",
        "kept_classes = [0, 1, 7]  # Fill in the class indices\n",
        "\n",
        "# TODO: Download the dataset and split it into training and testing sets\n",
        "# Use the `get_data` function to fetch and filter the dataset for `kept_classes`.\n",
        "# Example: x_train, x_test, y_train, y_test = get_data(kept_classes)\n",
        "x_train, x_test, y_train, y_test = get_data(kept_classes)  # Complete this line\n",
        "\n",
        "# TODO: One-hot encode the target labels of the training set\n",
        "# Use the `onehot_encoder` function to convert `y_train` into one-hot vectors.\n",
        "# Example: y_train = onehot_encoder(y_train, num_labels=len(kept_classes))\n",
        "y_train = onehot_encoder(y_train, num_labels=len(kept_classes))  # Complete this line\n"
      ]
    },
    {
      "cell_type": "markdown",
      "metadata": {
        "id": "sZeNgQXybi4P"
      },
      "source": [
        "## Training the Network"
      ]
    },
    {
      "cell_type": "markdown",
      "metadata": {
        "id": "2qfmP-hYkpfz"
      },
      "source": [
        "Now we can define the network and train it on the dataset."
      ]
    },
    {
      "cell_type": "code",
      "execution_count": 14,
      "metadata": {
        "id": "eaIADoc8W7CS"
      },
      "outputs": [
        {
          "name": "stderr",
          "output_type": "stream",
          "text": [
            "Train Loss: 0.078: 100%|██████████| 30/30 [00:09<00:00,  3.33it/s]\n"
          ]
        }
      ],
      "source": [
        "# Define the layers of the neural network\n",
        "# The first layer is a linear layer that transforms the input size (784) to 50 units\n",
        "layers = [\n",
        "   # TODO: Define the first Linear layer\n",
        "   Linear(784, 50),\n",
        "   # Apply ReLU activation function after the first layer\n",
        "   ReLU(),\n",
        "   # The second layer is a linear layer with input size 50 and output size 50\n",
        "   # TODO: Define the second Linear layer\n",
        "   Linear(50, 50),\n",
        "   # Apply ReLU activation function after the second layer\n",
        "   ReLU(),\n",
        "   # The final layer is a linear layer that t\n",
        "   # ransforms the input size (50) to the number of classes (len(kept_classes))\n",
        "   # TODO: Define the final Linear layer (output layer)\n",
        "   Linear(50, len(kept_classes)),\n",
        "   # Apply Softmax activation to convert the output to probabilities\n",
        "   Softmax()]\n",
        "\n",
        "# Create the model   \n",
        "# The model is an instance of MLP (Multi-Layer Perceptron), passing the layers, loss function (CrossEntropy), and learning rate (lr=0.001)\n",
        "# TODO: Initialize the MLP model\n",
        "model = MLP(layers=layers, loss_fn=CrossEntropy(), lr=1e-3)\n",
        "# Train the model\n",
        "# The model is trained using the train method, passing in training data (x_train, y_train),\n",
        "# number of epochs (30), and batch size (64)\n",
        "epochs: int = 30\n",
        "losses = model.train(x_train=x_train, y_train=y_train, epochs=epochs, batch_size=64)  # TODO: Train the model with the provided data"
      ]
    },
    {
      "cell_type": "code",
      "execution_count": 15,
      "metadata": {},
      "outputs": [
        {
          "data": {
            "image/png": "[encoded data removed]",
            "text/plain": [
              "<Figure size 1000x600 with 1 Axes>"
            ]
          },
          "metadata": {},
          "output_type": "display_data"
        }
      ],
      "source": [
        "# Plot the training loss curve\n",
        "# After training, plot the losses to visualize the training process\n",
        "# TODO: Implement the function to plot the loss curve\n",
        "plt.figure(figsize=(10, 6), dpi=100)\n",
        "sns.set_style('whitegrid')\n",
        "\n",
        "plt.plot(np.arange(epochs), losses, color='#1E90FF', alpha=0.8)\n",
        "\n",
        "plt.title('Training Loss Monitoring Plot')\n",
        "plt.xlabel('Epochs')\n",
        "plt.ylabel('Loss')\n",
        "\n",
        "plt.grid(True, linestyle='--', linewidth=0.5)\n",
        "plt.tight_layout()\n",
        "\n",
        "plt.show()"
      ]
    },
    {
      "cell_type": "markdown",
      "metadata": {
        "id": "H4Uh-ddyk2mR"
      },
      "source": [
        "## Evaluation"
      ]
    },
    {
      "cell_type": "markdown",
      "metadata": {
        "id": "sgO7eZ9Uk5X0"
      },
      "source": [
        "We can measure the models accuracy on the test dataset."
      ]
    },
    {
      "cell_type": "code",
      "execution_count": 47,
      "metadata": {
        "id": "I3M4fWNaZoHW"
      },
      "outputs": [
        {
          "name": "stdout",
          "output_type": "stream",
          "text": [
            "Test accuracy with 11000 training examples on 10000 test samples is 0.98%\n"
          ]
        }
      ],
      "source": [
        "# Test the model\n",
        "# Use the trained model to make predictions on the test data (x_test)\n",
        "# TODO: Apply the model on x_test to get predictions\n",
        "logits = model(x_test)\n",
        "y_pred_test = np.argmax(logits, axis=1)\n",
        "\n",
        "# Calculate the accuracy by comparing the predicted labels (y_prediction) with the true labels (y_test)\n",
        "# TODO: Compute the accuracy of the predictions\n",
        "acc = np.sum(y_pred_test == y_test) / y_pred_test.shape[0]\n",
        "# Print the test accuracy\n",
        "# The message will include the number of training examples and test samples, and the calculated accuracy\n",
        "print(f'Test accuracy with {len(y_train)} training examples on {len(y_test)} test samples is {acc:.2f}%')\n"
      ]
    },
    {
      "cell_type": "markdown",
      "metadata": {},
      "source": [
        "output of the model"
      ]
    },
    {
      "cell_type": "code",
      "execution_count": 45,
      "metadata": {},
      "outputs": [
        {
          "data": {
            "image/png": "[encoded data removed]",
            "text/plain": [
              "<Figure size 1200x600 with 8 Axes>"
            ]
          },
          "metadata": {},
          "output_type": "display_data"
        }
      ],
      "source": [
        "x_vis = x_test[:8]\n",
        "logits = model(x_vis)\n",
        "y_pred_test = np.argmax(logits, axis=1)\n",
        "y_test_vis = y_test[:8].to_numpy()\n",
        "plt.figure(figsize=(12, 6), dpi=100)\n",
        "for i in range(8):\n",
        "    plt.subplot(2, 4, i + 1)\n",
        "    plt.imshow(x_vis[i].reshape(28, 28), cmap='gray')\n",
        "    plt.axis('off')\n",
        "    plt.title(f\"Ground Truth: {y_test_vis[i]}\\nPrediction: {y_pred_test[i]}\")\n",
        "    \n",
        "plt.tight_layout()\n",
        "plt.show()\n",
        "\n"
      ]
    },
    {
      "cell_type": "markdown",
      "metadata": {
        "id": "I2DrYQPilBlF"
      },
      "source": [
        "The confusion matrix can also be observed:"
      ]
    },
    {
      "cell_type": "code",
      "execution_count": 48,
      "metadata": {
        "id": "49LwgNLMj72R"
      },
      "outputs": [
        {
          "data": {
            "image/png": "[encoded data removed]",
            "text/plain": [
              "<Figure size 1000x800 with 2 Axes>"
            ]
          },
          "metadata": {},
          "output_type": "display_data"
        }
      ],
      "source": [
        "# Plot the confusion matrix\n",
        "#TODO\n",
        "conf_mat = confusion_matrix(y_test, y_pred_test)\n",
        "\n",
        "\n",
        "plt.figure(figsize=(10, 8))\n",
        "sns.heatmap(conf_mat, \n",
        "            annot=True, \n",
        "            fmt='d', \n",
        "            cmap='viridis', \n",
        "            square=True)\n",
        "plt.title('Confusion Matrix (Raw Counts)')\n",
        "plt.xlabel('Predicted Label')\n",
        "plt.ylabel('True Label')\n",
        "\n",
        "plt.show()"
      ]
    }
  ],
  "metadata": {
    "colab": {
      "collapsed_sections": [
        "Ecaqr9YkWpbL"
      ],
      "provenance": [],
      "toc_visible": true
    },
    "kernelspec": {
      "display_name": "ML2024",
      "language": "python",
      "name": "python3"
    },
    "language_info": {
      "codemirror_mode": {
        "name": "ipython",
        "version": 3
      },
      "file_extension": ".py",
      "mimetype": "text/x-python",
      "name": "python",
      "nbconvert_exporter": "python",
      "pygments_lexer": "ipython3",
      "version": "3.12.6"
    }
  },
  "nbformat": 4,
  "nbformat_minor": 0
}
